{
 "cells": [
  {
   "cell_type": "code",
   "execution_count": null,
   "metadata": {},
   "outputs": [],
   "source": [
    "using PyPlot\n",
    "using JLD\n",
    "include(\"scripts/GS.jl\")\n",
    "include(\"scripts/SOR.jl\")\n",
    "include(\"scripts/func.jl\")\n",
    "\n",
    "Ω_sim = readdlm(\"/home/zhenpan/Astroph/Uniform_Sol/psi_omegaf_a_0.990.out\")"
   ]
  },
  {
   "cell_type": "code",
   "execution_count": 2,
   "metadata": {},
   "outputs": [
    {
     "name": "stderr",
     "output_type": "stream",
     "text": [
      "HDF5-DIAG: Error detected in HDF5 (1.8.11) thread 139667232197696:\n",
      "  #000: ../../../src/H5O.c line 246 in H5Oopen(): unable to open object\n",
      "    major: Symbol table\n",
      "    minor: Can't open object\n",
      "  #001: ../../../src/H5O.c line 1362 in H5O_open_name(): unable to open object\n",
      "    major: Symbol table\n",
      "    minor: Can't open object\n",
      "  #002: ../../../src/H5O.c line 1398 in H5O_open_by_loc(): unable to determine object class\n",
      "    major: Object header\n",
      "    minor: Can't get value\n",
      "  #003: ../../../src/H5O.c line 2370 in H5O_obj_class(): unable to load object header\n",
      "    major: Object header\n",
      "    minor: Unable to protect metadata\n",
      "  #004: ../../../src/H5O.c line 1684 in H5O_protect(): unable to load object header\n",
      "    major: Object header\n",
      "    minor: Unable to protect metadata\n",
      "  #005: ../../../src/H5AC.c line 1329 in H5AC_protect(): H5C_protect() failed.\n",
      "    major: Object cache\n",
      "    minor: Unable to protect metadata\n",
      "  #006: ../../../src/H5C.c line 3570 in H5C_protect(): can't load entry\n",
      "    major: Object cache\n",
      "    minor: Unable to load metadata into cache\n",
      "  #007: ../../../src/H5C.c line 7950 in H5C_load_entry(): unable to load entry\n",
      "    major: Object cache\n",
      "    minor: Unable to load metadata into cache\n",
      "  #008: ../../../src/H5Ocache.c line 275 in H5O_load(): bad object header version number\n",
      "    major: Object header\n",
      "    minor: Wrong version number\n"
     ]
    },
    {
     "ename": "LoadError",
     "evalue": "Error opening object ///_types",
     "output_type": "error",
     "traceback": [
      "Error opening object ///_types",
      "",
      " in h5o_open(::Int32, ::String, ::Int64) at /home/zhenpan/.julia/v0.5/HDF5/src/plain.jl:2106",
      " in o_open(::HDF5.HDF5File, ::String) at /home/zhenpan/.julia/v0.5/HDF5/src/plain.jl:771",
      " in typeindex(::JLD.JldFile, ::UInt64) at /home/zhenpan/.julia/v0.5/JLD/src/jld_types.jl:821",
      " in jldatatype(::JLD.JldFile, ::HDF5.HDF5Datatype) at /home/zhenpan/.julia/v0.5/JLD/src/jld_types.jl:752",
      " in read(::JLD.JldDataset) at /home/zhenpan/.julia/v0.5/JLD/src/JLD.jl:385",
      " in read(::JLD.JldFile, ::String) at /home/zhenpan/.julia/v0.5/JLD/src/JLD.jl:361",
      " in macro expansion; at /home/zhenpan/.julia/v0.5/JLD/src/JLD.jl:1215 [inlined]",
      " in anonymous at ./<missing>:?"
     ]
    }
   ],
   "source": [
    "@load \"/home/zhenpan/Astroph/Uniform_Sol/scripts/a99_Icrt.jld\""
   ]
  },
  {
   "cell_type": "code",
   "execution_count": null,
   "metadata": {},
   "outputs": [],
   "source": [
    "Ubm = linspace(0., U_H, 64)\n",
    "fig = figure(figsize=(5, 3.6))\n",
    "plot(Ubm/U_H, Ω_I.Ωspl(Ubm)/crd.Ω_H, lw = 2, \"k\")\n",
    "plot(Ubm/U_H, 0.5*(1-Ubm/U_H), lw = 2, \"r--\")\n",
    "plot(Ω_sim[:,1]/Ω_sim[end,1], Ω_sim[:,2], lw = 2)\n",
    "ylim(0., 0.52)\n",
    "xlabel(L\"$A_\\phi$\", fontsize = 20)\n",
    "ylabel(L\"$\\Omega/ \\Omega_{\\rm H}$\", fontsize = 20)\n",
    "tick_params(axis=\"both\", which=\"major\", length =4, labelsize=14)\n",
    "ax = gca()\n",
    "mx = matplotlib[:ticker][:MultipleLocator](0.2)\n",
    "My = matplotlib[:ticker][:MultipleLocator](0.1) # Define interval of major ticks\n",
    "my = matplotlib[:ticker][:MultipleLocator](0.05)\n",
    "ax[:xaxis][:set_minor_locator](mx)\n",
    "ax[:yaxis][:set_major_locator](My)\n",
    "ax[:yaxis][:set_minor_locator](my)\n",
    "tight_layout()\n",
    "savefig(\"f2b.pdf\")"
   ]
  },
  {
   "cell_type": "code",
   "execution_count": null,
   "metadata": {},
   "outputs": [],
   "source": [
    "@load \"/home/zhenpan/Astroph/Uniform_Sol/scripts/a99.jld\""
   ]
  },
  {
   "cell_type": "code",
   "execution_count": null,
   "metadata": {},
   "outputs": [],
   "source": [
    "Ubm = linspace(0., U_H, 64)\n",
    "fig = figure(figsize=(5, 3.6))\n",
    "plot(Ubm/U_H, Ω_I.Ωspl(Ubm)/crd.Ω_H, lw = 2, \"k\")\n",
    "plot(Ubm/U_H, 0.5*(1-Ubm/U_H), lw = 2, \"r--\")\n",
    "plot(Ω_sim[:,1]/Ω_sim[end,1], Ω_sim[:,2], lw = 2)\n",
    "ylim(0., 0.52)\n",
    "xlabel(L\"$A_\\phi$\", fontsize = 20)\n",
    "ylabel(L\"$\\Omega/ \\Omega_{\\rm H}$\", fontsize = 20)\n",
    "tick_params(axis=\"both\", which=\"major\", length =4, labelsize=14)\n",
    "ax = gca()\n",
    "mx = matplotlib[:ticker][:MultipleLocator](0.2)\n",
    "My = matplotlib[:ticker][:MultipleLocator](0.1) # Define interval of major ticks\n",
    "my = matplotlib[:ticker][:MultipleLocator](0.05)\n",
    "ax[:xaxis][:set_minor_locator](mx)\n",
    "ax[:yaxis][:set_major_locator](My)\n",
    "ax[:yaxis][:set_minor_locator](my)\n",
    "tight_layout()\n",
    "savefig(\"f2.pdf\")"
   ]
  },
  {
   "cell_type": "code",
   "execution_count": null,
   "metadata": {},
   "outputs": [],
   "source": []
  }
 ],
 "metadata": {
  "kernelspec": {
   "display_name": "Julia 0.5.0",
   "language": "julia",
   "name": "julia-0.5"
  },
  "language_info": {
   "file_extension": ".jl",
   "mimetype": "application/julia",
   "name": "julia",
   "version": "0.5.2"
  }
 },
 "nbformat": 4,
 "nbformat_minor": 1
}
